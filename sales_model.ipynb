{
  "nbformat": 4,
  "nbformat_minor": 0,
  "metadata": {
    "colab": {
      "provenance": []
    },
    "kernelspec": {
      "name": "python3",
      "display_name": "Python 3"
    },
    "language_info": {
      "name": "python"
    }
  },
  "cells": [
    {
      "cell_type": "code",
      "execution_count": null,
      "metadata": {
        "id": "4P33VLwItOOH"
      },
      "outputs": [],
      "source": [
        "import pandas as pd\n",
        "# Load your dataset\n",
        "df = pd.read_csv(\"mapped_product_numbers_combined_flight_sales.csv\")\n",
        "\n",
        "\n",
        "\n",
        "# Filter the DataFrame to include only rows where 'ProductType' is 2\n",
        "df_filtered = df[df['ProductNumber'] == 1]\n",
        "\n",
        "# Keep only the desired columns\n",
        "df_filtered = df_filtered[['DepartureStation', 'ArrivalStation', 'Destination_Type', 'Origin_Type', 'Capacity', 'Passengers', 'STD_day', 'STD_month', 'Quantity','ProductNumber']]\n",
        "\n",
        "# Drop rows with missing values\n",
        "df_filtered = df_filtered.dropna()\n",
        "\n",
        "# Convert to numpy arrays\n",
        "x = df_filtered[['DepartureStation', 'ArrivalStation', 'Destination_Type', 'Origin_Type', 'Capacity', 'Passengers', 'STD_day', 'STD_month','ProductNumber']].values\n",
        "y = df_filtered['Quantity'].values\n",
        "\n",
        "\n"
      ]
    },
    {
      "cell_type": "code",
      "source": [
        "\n",
        "from sklearn.model_selection import train_test_split\n",
        "x_train, x_test, y_train, y_test = train_test_split(x, y, test_size=0.2, random_state=0)\n",
        "from sklearn.ensemble import GradientBoostingRegressor\n",
        "\n",
        "\n",
        "model_regression = GradientBoostingRegressor()\n",
        "x_labels = ['DepartureStation', 'ArrivalStation', 'Destination_Type', 'Origin_Type', 'Capacity', 'Passengers', 'STD_day', 'STD_month','ProductNumber']\n",
        "c_label = ['Coeficientes']\n",
        "from sklearn.linear_model import ElasticNet\n",
        "\n",
        "\n",
        "model_regression.fit(x_train, y_train)\n",
        "\n",
        "x_labels = ['DepartureStation', 'ArrivalStation', 'Destination_Type', 'Origin_Type', 'Capacity', 'Passengers', 'STD_day', 'STD_month','ProductNumber']\n",
        "c_label = ['Passengers']\n",
        "\n",
        "coeff_df = pd.DataFrame(model_regression.feature_importances_, index=x_labels, columns=c_label)\n",
        "print(coeff_df)\n",
        "\n",
        "y_pred = model_regression.predict(x_test)\n",
        "\n",
        "residuals = pd.DataFrame({'Real': y_test, 'Predicción': y_pred, 'Residual': y_test - y_pred})\n",
        "residuals = residuals.sample(n = 24)\n",
        "residuals = residuals.sort_values(by='Real')\n",
        "residuals\n",
        "\n",
        "from sklearn.metrics import r2_score\n",
        "r2_score(y_test, y_pred)\n",
        "r2_score(y_test, y_pred)\n",
        "\n",
        "import matplotlib.pyplot as plt\n",
        "import numpy as np\n",
        "\n",
        "\n",
        "%matplotlib inline\n",
        "\n",
        "plt.scatter(np.arange(24), residuals['Real'], label = \"Real\")\n",
        "plt.scatter(np.arange(24), residuals['Predicción'], label = \"Predicción\")\n",
        "\n",
        "plt.title(\"Comparación de costos: Reales y Predicción\")\n",
        "\n",
        "plt.xlabel(\"Observaciones de costos\")\n",
        "\n",
        "plt.ylabel(\"Costos\")\n",
        "\n",
        "plt.legend(loc='upper left')\n",
        "\n",
        "plt.show() # desplegamos el gráfico\n",
        "from sklearn.metrics import mean_absolute_error\n",
        "\n",
        "# Calculate Mean Absolute Error (MAE)\n",
        "mae = mean_absolute_error(y_test, y_pred)\n",
        "\n",
        "# Calculate Mean Absolute Percentage Error (MAPE)\n",
        "mape = np.mean(abs((y_test - y_pred) / y_test)) * 100\n",
        "\n",
        "print(\"Mean Absolute Error (MAE): {:.2f}\".format(mae))\n",
        "print(\"Mean Absolute Percentage Error (MAPE): {:.2f}%\".format(mape))"
      ],
      "metadata": {
        "colab": {
          "base_uri": "https://localhost:8080/",
          "height": 680
        },
        "id": "OTQG5wPxmelL",
        "outputId": "f19a6b5f-cf20-4eb2-c2d4-1743d8a6bc24"
      },
      "execution_count": null,
      "outputs": [
        {
          "output_type": "stream",
          "name": "stdout",
          "text": [
            "                  Passengers\n",
            "DepartureStation    0.186928\n",
            "ArrivalStation      0.174023\n",
            "Destination_Type    0.219791\n",
            "Origin_Type         0.187316\n",
            "Capacity            0.017840\n",
            "Passengers          0.192383\n",
            "STD_day             0.004370\n",
            "STD_month           0.017349\n",
            "ProductNumber       0.000000\n"
          ]
        },
        {
          "output_type": "display_data",
          "data": {
            "text/plain": [
              "<Figure size 640x480 with 1 Axes>"
            ],
            "image/png": "[encoded data removed]"
          },
          "metadata": {}
        },
        {
          "output_type": "stream",
          "name": "stdout",
          "text": [
            "Mean Absolute Error (MAE): 2.90\n",
            "Mean Absolute Percentage Error (MAPE): 94.47%\n"
          ]
        }
      ]
    },
    {
      "cell_type": "code",
      "source": [
        "r2_score(y_test, y_pred)"
      ],
      "metadata": {
        "colab": {
          "base_uri": "https://localhost:8080/"
        },
        "id": "JoRZ6KW8ASMt",
        "outputId": "be3c34ae-7d81-4801-a398-2f21b813cdbb"
      },
      "execution_count": null,
      "outputs": [
        {
          "output_type": "execute_result",
          "data": {
            "text/plain": [
              "0.3117046612053077"
            ]
          },
          "metadata": {},
          "execution_count": 44
        }
      ]
    },
    {
      "cell_type": "code",
      "source": [],
      "metadata": {
        "id": "tT2uCej50TZ_"
      },
      "execution_count": null,
      "outputs": []
    },
    {
      "cell_type": "code",
      "source": [
        "\n",
        "df = pd.read_csv(\"mapped_flight_2023_no_null_without_bookings.csv\")\n",
        "\n",
        "flight_info = {}\n",
        "for index, row in df.iterrows():\n",
        "    flight_id = row['Flight_ID']\n",
        "    info = row.drop(['Flight_ID', 'Aeronave', 'Passengers']).tolist()\n",
        "    if flight_id not in flight_info:\n",
        "        flight_info[flight_id] = []\n",
        "    flight_info[flight_id].append(info)\n",
        "\n",
        "def get_info_by_flight_id(flight_id):\n",
        "    return flight_info.get(flight_id, \"Flight ID not found\")\n"
      ],
      "metadata": {
        "id": "gyhNm3d-53-L"
      },
      "execution_count": null,
      "outputs": []
    },
    {
      "cell_type": "code",
      "source": [
        "\n",
        "flight_id = input(\"Enter Flight ID: \")\n",
        "print(get_info_by_flight_id(flight_id))"
      ],
      "metadata": {
        "colab": {
          "base_uri": "https://localhost:8080/"
        },
        "id": "YDhv-L-H8MDo",
        "outputId": "77d1d7a0-809f-4302-fc9b-57515e2bc198"
      },
      "execution_count": null,
      "outputs": [
        {
          "output_type": "stream",
          "name": "stdout",
          "text": [
            "Enter Flight ID: cc445df3dab7fa57a8773bff0509c67e\n",
            "[[3.0, 30.0, 5.0, 2.0, 240, 159.0, 2, 10]]\n"
          ]
        }
      ]
    },
    {
      "cell_type": "code",
      "source": [
        "custom_output = model_regression.predict(get_info_by_flight_id(flight_id))\n",
        "print(\"Predicted output:\", custom_output)"
      ],
      "metadata": {
        "colab": {
          "base_uri": "https://localhost:8080/"
        },
        "id": "B6zNPIWB8S4q",
        "outputId": "663ab1e8-13b8-49d4-a2f8-9e184dd282c1"
      },
      "execution_count": null,
      "outputs": [
        {
          "output_type": "stream",
          "name": "stdout",
          "text": [
            "Predicted output: [238.92995064]\n"
          ]
        }
      ]
    }
  ]
}
